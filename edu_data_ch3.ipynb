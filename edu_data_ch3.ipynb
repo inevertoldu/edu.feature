{
 "cells": [
  {
   "cell_type": "markdown",
   "metadata": {},
   "source": [
    "## 비닝(Binning): 데이터를 구간이나 순위에 따라서 범주화하는 것\n",
    "### 수학 0-100점, 상/중/하, 100-67점 / 66-34점 / 33-0점"
   ]
  },
  {
   "cell_type": "code",
   "execution_count": 1,
   "metadata": {},
   "outputs": [
    {
     "name": "stdout",
     "output_type": "stream",
     "text": [
      "[86 66  4 61 62 39 40 55 32 63  2 45 22 23 65 93 29  3 41 50 32 28 48 10\n",
      " 61]\n",
      "[8 6 0 6 6 3 4 5 3 6 0 4 2 2 6 9 2 0 4 5 3 2 4 1 6]\n"
     ]
    }
   ],
   "source": [
    "import numpy as np\n",
    "\n",
    "# 0~99 사이의 숫자 중에서 무작위로 25개를 생성한다.\n",
    "count1 = np.random.randint(0, 100, 25) # (시작 숫자, 끝 숫자(제외), 추출 갯수)\n",
    "print(count1) # 25개의 랜덤하게 추출된 숫자를 출력!\n",
    "bin1 = np.floor_divide(count1, 10) # 10으로 나눈 뒤 몫을 취하여 0부터 9 사이의 빈으로 매핑한다.\n",
    "print(bin1)"
   ]
  },
  {
   "cell_type": "code",
   "execution_count": 2,
   "metadata": {},
   "outputs": [
    {
     "name": "stdout",
     "output_type": "stream",
     "text": [
      "[5636 6367 4429 8416 8368 9887 6873 4344 4905 4939 7485 6740 4358 2499\n",
      " 4203 1429 4858 3278 7805 2046]\n",
      "[3. 3. 3. 3. 3. 3. 3. 3. 3. 3. 3. 3. 3. 3. 3. 3. 3. 3. 3. 3.]\n"
     ]
    }
   ],
   "source": [
    "count2 = np.random.randint(0, 10000, 20) # 0~9999 사이의 숫자 20개를 임의로 추출한다.\n",
    "print(count2)\n",
    "bin2 = np.floor(np.log10(count2)) # 로그스케일로 변환\n",
    "print(bin2)"
   ]
  },
  {
   "cell_type": "code",
   "execution_count": 4,
   "metadata": {},
   "outputs": [
    {
     "name": "stdout",
     "output_type": "stream",
     "text": [
      "Index(['학과', '성별', 'A1', 'A2', 'A3', 'A4', 'A5', 'B1', 'B2', 'B3', 'B4', 'B5',\n",
      "       'B6', 'B7', 'C1', 'C2', 'C3', 'C4', 'C5', 'C6', 'C7', 'Interest',\n",
      "       'Motive'],\n",
      "      dtype='object')\n",
      "Index(['Dept', 'Sex', 'A1', 'A2', 'A3', 'A4', 'A5', 'B1', 'B2', 'B3', 'B4',\n",
      "       'B5', 'B6', 'B7', 'C1', 'C2', 'C3', 'C4', 'C5', 'C6', 'C7', 'Interest',\n",
      "       'Motive'],\n",
      "      dtype='object')\n"
     ]
    }
   ],
   "source": [
    "import pandas as pd #데이터프레임을 다루기 위한 라이브러리\n",
    "\n",
    "df = pd.read_excel('med_data.xlsx', index_col=0, engine='openpyxl')\n",
    "print(df.columns)\n",
    "df = df.rename(columns={'학과':'Dept', '성별':'Sex'})\n",
    "print(df.columns)"
   ]
  },
  {
   "cell_type": "code",
   "execution_count": 5,
   "metadata": {},
   "outputs": [
    {
     "data": {
      "text/html": [
       "<div>\n",
       "<style scoped>\n",
       "    .dataframe tbody tr th:only-of-type {\n",
       "        vertical-align: middle;\n",
       "    }\n",
       "\n",
       "    .dataframe tbody tr th {\n",
       "        vertical-align: top;\n",
       "    }\n",
       "\n",
       "    .dataframe thead th {\n",
       "        text-align: right;\n",
       "    }\n",
       "</style>\n",
       "<table border=\"1\" class=\"dataframe\">\n",
       "  <thead>\n",
       "    <tr style=\"text-align: right;\">\n",
       "      <th></th>\n",
       "      <th>Dept</th>\n",
       "      <th>Sex</th>\n",
       "      <th>A1</th>\n",
       "      <th>A2</th>\n",
       "      <th>A3</th>\n",
       "      <th>A4</th>\n",
       "      <th>A5</th>\n",
       "      <th>B1</th>\n",
       "      <th>B2</th>\n",
       "      <th>B3</th>\n",
       "      <th>...</th>\n",
       "      <th>C1</th>\n",
       "      <th>C2</th>\n",
       "      <th>C3</th>\n",
       "      <th>C4</th>\n",
       "      <th>C5</th>\n",
       "      <th>C6</th>\n",
       "      <th>C7</th>\n",
       "      <th>Interest</th>\n",
       "      <th>Motive</th>\n",
       "      <th>Group</th>\n",
       "    </tr>\n",
       "    <tr>\n",
       "      <th>Index</th>\n",
       "      <th></th>\n",
       "      <th></th>\n",
       "      <th></th>\n",
       "      <th></th>\n",
       "      <th></th>\n",
       "      <th></th>\n",
       "      <th></th>\n",
       "      <th></th>\n",
       "      <th></th>\n",
       "      <th></th>\n",
       "      <th></th>\n",
       "      <th></th>\n",
       "      <th></th>\n",
       "      <th></th>\n",
       "      <th></th>\n",
       "      <th></th>\n",
       "      <th></th>\n",
       "      <th></th>\n",
       "      <th></th>\n",
       "      <th></th>\n",
       "      <th></th>\n",
       "    </tr>\n",
       "  </thead>\n",
       "  <tbody>\n",
       "    <tr>\n",
       "      <th>0</th>\n",
       "      <td>치의예과</td>\n",
       "      <td>남</td>\n",
       "      <td>2</td>\n",
       "      <td>2</td>\n",
       "      <td>5</td>\n",
       "      <td>2</td>\n",
       "      <td>2</td>\n",
       "      <td>2</td>\n",
       "      <td>4</td>\n",
       "      <td>2</td>\n",
       "      <td>...</td>\n",
       "      <td>2</td>\n",
       "      <td>2</td>\n",
       "      <td>1</td>\n",
       "      <td>5</td>\n",
       "      <td>5</td>\n",
       "      <td>1</td>\n",
       "      <td>1</td>\n",
       "      <td>1</td>\n",
       "      <td>1</td>\n",
       "      <td>0</td>\n",
       "    </tr>\n",
       "    <tr>\n",
       "      <th>1</th>\n",
       "      <td>치의예과</td>\n",
       "      <td>여</td>\n",
       "      <td>2</td>\n",
       "      <td>3</td>\n",
       "      <td>5</td>\n",
       "      <td>4</td>\n",
       "      <td>3</td>\n",
       "      <td>2</td>\n",
       "      <td>3</td>\n",
       "      <td>4</td>\n",
       "      <td>...</td>\n",
       "      <td>3</td>\n",
       "      <td>3</td>\n",
       "      <td>3</td>\n",
       "      <td>3</td>\n",
       "      <td>3</td>\n",
       "      <td>3</td>\n",
       "      <td>3</td>\n",
       "      <td>3</td>\n",
       "      <td>2</td>\n",
       "      <td>0</td>\n",
       "    </tr>\n",
       "    <tr>\n",
       "      <th>2</th>\n",
       "      <td>의예과</td>\n",
       "      <td>여</td>\n",
       "      <td>2</td>\n",
       "      <td>2</td>\n",
       "      <td>4</td>\n",
       "      <td>3</td>\n",
       "      <td>2</td>\n",
       "      <td>2</td>\n",
       "      <td>3</td>\n",
       "      <td>2</td>\n",
       "      <td>...</td>\n",
       "      <td>2</td>\n",
       "      <td>2</td>\n",
       "      <td>2</td>\n",
       "      <td>3</td>\n",
       "      <td>3</td>\n",
       "      <td>2</td>\n",
       "      <td>2</td>\n",
       "      <td>3</td>\n",
       "      <td>2</td>\n",
       "      <td>0</td>\n",
       "    </tr>\n",
       "    <tr>\n",
       "      <th>3</th>\n",
       "      <td>의예과</td>\n",
       "      <td>남</td>\n",
       "      <td>3</td>\n",
       "      <td>3</td>\n",
       "      <td>2</td>\n",
       "      <td>3</td>\n",
       "      <td>3</td>\n",
       "      <td>4</td>\n",
       "      <td>3</td>\n",
       "      <td>3</td>\n",
       "      <td>...</td>\n",
       "      <td>4</td>\n",
       "      <td>4</td>\n",
       "      <td>4</td>\n",
       "      <td>5</td>\n",
       "      <td>4</td>\n",
       "      <td>4</td>\n",
       "      <td>4</td>\n",
       "      <td>3</td>\n",
       "      <td>1</td>\n",
       "      <td>1</td>\n",
       "    </tr>\n",
       "    <tr>\n",
       "      <th>4</th>\n",
       "      <td>의예과</td>\n",
       "      <td>남</td>\n",
       "      <td>3</td>\n",
       "      <td>3</td>\n",
       "      <td>5</td>\n",
       "      <td>4</td>\n",
       "      <td>2</td>\n",
       "      <td>2</td>\n",
       "      <td>3</td>\n",
       "      <td>3</td>\n",
       "      <td>...</td>\n",
       "      <td>2</td>\n",
       "      <td>2</td>\n",
       "      <td>2</td>\n",
       "      <td>4</td>\n",
       "      <td>4</td>\n",
       "      <td>2</td>\n",
       "      <td>3</td>\n",
       "      <td>3</td>\n",
       "      <td>1</td>\n",
       "      <td>1</td>\n",
       "    </tr>\n",
       "  </tbody>\n",
       "</table>\n",
       "<p>5 rows × 24 columns</p>\n",
       "</div>"
      ],
      "text/plain": [
       "       Dept Sex  A1  A2  A3  A4  A5  B1  B2  B3  ...  C1  C2  C3  C4  C5  C6  \\\n",
       "Index                                            ...                           \n",
       "0      치의예과   남   2   2   5   2   2   2   4   2  ...   2   2   1   5   5   1   \n",
       "1      치의예과   여   2   3   5   4   3   2   3   4  ...   3   3   3   3   3   3   \n",
       "2       의예과   여   2   2   4   3   2   2   3   2  ...   2   2   2   3   3   2   \n",
       "3       의예과   남   3   3   2   3   3   4   3   3  ...   4   4   4   5   4   4   \n",
       "4       의예과   남   3   3   5   4   2   2   3   3  ...   2   2   2   4   4   2   \n",
       "\n",
       "       C7  Interest  Motive  Group  \n",
       "Index                               \n",
       "0       1         1       1      0  \n",
       "1       3         3       2      0  \n",
       "2       2         3       2      0  \n",
       "3       4         3       1      1  \n",
       "4       3         3       1      1  \n",
       "\n",
       "[5 rows x 24 columns]"
      ]
     },
     "execution_count": 5,
     "metadata": {},
     "output_type": "execute_result"
    }
   ],
   "source": [
    "grouped = pd.qcut(df['A1'], 4, duplicates='drop', labels=False)\n",
    "df['Group'] = grouped\n",
    "df.head()"
   ]
  },
  {
   "cell_type": "markdown",
   "metadata": {},
   "source": [
    "## Json to Excel"
   ]
  },
  {
   "cell_type": "code",
   "execution_count": 8,
   "metadata": {},
   "outputs": [],
   "source": [
    "import pandas as pd\n",
    "import json\n",
    "\n",
    "biz_file = open('Data/yelp_business.json')\n",
    "biz_df = pd.DataFrame([json.loads(x) for x in biz_file.readlines()])\n",
    "biz_file.close()\n",
    "\n",
    "biz_df = biz_df.drop(['hours', 'categories', 'attributes', 'neighborhoods'], axis=1)\n",
    "biz_df.to_excel('Data/yelp_extract.xlsx')"
   ]
  },
  {
   "cell_type": "code",
   "execution_count": 9,
   "metadata": {},
   "outputs": [
    {
     "data": {
      "text/html": [
       "<div>\n",
       "<style scoped>\n",
       "    .dataframe tbody tr th:only-of-type {\n",
       "        vertical-align: middle;\n",
       "    }\n",
       "\n",
       "    .dataframe tbody tr th {\n",
       "        vertical-align: top;\n",
       "    }\n",
       "\n",
       "    .dataframe thead th {\n",
       "        text-align: right;\n",
       "    }\n",
       "</style>\n",
       "<table border=\"1\" class=\"dataframe\">\n",
       "  <thead>\n",
       "    <tr style=\"text-align: right;\">\n",
       "      <th></th>\n",
       "      <th>business_id</th>\n",
       "      <th>full_address</th>\n",
       "      <th>open</th>\n",
       "      <th>city</th>\n",
       "      <th>review_count</th>\n",
       "      <th>name</th>\n",
       "      <th>longitude</th>\n",
       "      <th>state</th>\n",
       "      <th>stars</th>\n",
       "      <th>latitude</th>\n",
       "      <th>type</th>\n",
       "    </tr>\n",
       "  </thead>\n",
       "  <tbody>\n",
       "    <tr>\n",
       "      <th>0</th>\n",
       "      <td>O_X3PGhk3Y5JWVi866qlJg</td>\n",
       "      <td>1501 W Bell Rd\\nPhoenix, AZ 85023</td>\n",
       "      <td>True</td>\n",
       "      <td>Phoenix</td>\n",
       "      <td>29</td>\n",
       "      <td>Turf Paradise Race Course</td>\n",
       "      <td>-112.092329</td>\n",
       "      <td>AZ</td>\n",
       "      <td>4.0</td>\n",
       "      <td>33.638573</td>\n",
       "      <td>business</td>\n",
       "    </tr>\n",
       "    <tr>\n",
       "      <th>1</th>\n",
       "      <td>QbrM7wqtmoNncqjc6GtFaQ</td>\n",
       "      <td>18501 N 83rd Avenue\\nGlendale, AZ 85308</td>\n",
       "      <td>True</td>\n",
       "      <td>Glendale</td>\n",
       "      <td>3</td>\n",
       "      <td>Sam's Club Members Only</td>\n",
       "      <td>-112.234755</td>\n",
       "      <td>AZ</td>\n",
       "      <td>3.5</td>\n",
       "      <td>33.648545</td>\n",
       "      <td>business</td>\n",
       "    </tr>\n",
       "    <tr>\n",
       "      <th>2</th>\n",
       "      <td>7lbvsGKzhjuX3oJtaXJvOg</td>\n",
       "      <td>5000 S Arizona Mills Cir\\nSte 590\\nTempe, AZ 8...</td>\n",
       "      <td>True</td>\n",
       "      <td>Tempe</td>\n",
       "      <td>7</td>\n",
       "      <td>Forever 21</td>\n",
       "      <td>-111.964485</td>\n",
       "      <td>AZ</td>\n",
       "      <td>3.5</td>\n",
       "      <td>33.383123</td>\n",
       "      <td>business</td>\n",
       "    </tr>\n",
       "    <tr>\n",
       "      <th>3</th>\n",
       "      <td>gjxoKVsRJwEoa8zd9XxlAw</td>\n",
       "      <td>912 W Sycamore Pl\\nChandler, AZ 85225</td>\n",
       "      <td>True</td>\n",
       "      <td>Chandler</td>\n",
       "      <td>4</td>\n",
       "      <td>Loving Hands Pet Care</td>\n",
       "      <td>-111.857818</td>\n",
       "      <td>AZ</td>\n",
       "      <td>5.0</td>\n",
       "      <td>33.356472</td>\n",
       "      <td>business</td>\n",
       "    </tr>\n",
       "    <tr>\n",
       "      <th>4</th>\n",
       "      <td>V28yjMqyZnbCtabroJN_aA</td>\n",
       "      <td>1745 W Glendale Ave\\nPhoenix, AZ 85021</td>\n",
       "      <td>True</td>\n",
       "      <td>Phoenix</td>\n",
       "      <td>3</td>\n",
       "      <td>Amec Mid-City Animal Hospital</td>\n",
       "      <td>-112.097232</td>\n",
       "      <td>AZ</td>\n",
       "      <td>5.0</td>\n",
       "      <td>33.538493</td>\n",
       "      <td>business</td>\n",
       "    </tr>\n",
       "  </tbody>\n",
       "</table>\n",
       "</div>"
      ],
      "text/plain": [
       "              business_id                                       full_address  \\\n",
       "0  O_X3PGhk3Y5JWVi866qlJg                  1501 W Bell Rd\\nPhoenix, AZ 85023   \n",
       "1  QbrM7wqtmoNncqjc6GtFaQ            18501 N 83rd Avenue\\nGlendale, AZ 85308   \n",
       "2  7lbvsGKzhjuX3oJtaXJvOg  5000 S Arizona Mills Cir\\nSte 590\\nTempe, AZ 8...   \n",
       "3  gjxoKVsRJwEoa8zd9XxlAw              912 W Sycamore Pl\\nChandler, AZ 85225   \n",
       "4  V28yjMqyZnbCtabroJN_aA             1745 W Glendale Ave\\nPhoenix, AZ 85021   \n",
       "\n",
       "   open      city  review_count                           name   longitude  \\\n",
       "0  True   Phoenix            29      Turf Paradise Race Course -112.092329   \n",
       "1  True  Glendale             3        Sam's Club Members Only -112.234755   \n",
       "2  True     Tempe             7                     Forever 21 -111.964485   \n",
       "3  True  Chandler             4          Loving Hands Pet Care -111.857818   \n",
       "4  True   Phoenix             3  Amec Mid-City Animal Hospital -112.097232   \n",
       "\n",
       "  state  stars   latitude      type  \n",
       "0    AZ    4.0  33.638573  business  \n",
       "1    AZ    3.5  33.648545  business  \n",
       "2    AZ    3.5  33.383123  business  \n",
       "3    AZ    5.0  33.356472  business  \n",
       "4    AZ    5.0  33.538493  business  "
      ]
     },
     "execution_count": 9,
     "metadata": {},
     "output_type": "execute_result"
    }
   ],
   "source": [
    "biz_df =pd.read_excel('Data/yelp_extract.xlsx', index_col=0, engine='openpyxl')\n",
    "biz_df.head()"
   ]
  },
  {
   "cell_type": "code",
   "execution_count": 10,
   "metadata": {
    "scrolled": true
   },
   "outputs": [
    {
     "data": {
      "text/plain": [
       "business_id      object\n",
       "full_address     object\n",
       "open               bool\n",
       "city             object\n",
       "review_count      int64\n",
       "name             object\n",
       "longitude       float64\n",
       "state            object\n",
       "stars           float64\n",
       "latitude        float64\n",
       "type             object\n",
       "dtype: object"
      ]
     },
     "execution_count": 10,
     "metadata": {},
     "output_type": "execute_result"
    }
   ],
   "source": [
    "biz_df.dtypes"
   ]
  },
  {
   "cell_type": "code",
   "execution_count": 11,
   "metadata": {},
   "outputs": [],
   "source": [
    "biz_df['log_rev_cnt'] = 0\n",
    "biz_df = biz_df.astype({'log_rev_cnt':'float'})\n",
    "#biz_df['log_rev_cnt'] = np.log10(biz_df['review_count']) # 로그스케일로 변환\n",
    "biz_df['log_rev_cnt'] = np.floor(np.log10(biz_df['review_count'])) # 로그스케일로 변환"
   ]
  },
  {
   "cell_type": "code",
   "execution_count": 12,
   "metadata": {},
   "outputs": [
    {
     "data": {
      "text/html": [
       "<div>\n",
       "<style scoped>\n",
       "    .dataframe tbody tr th:only-of-type {\n",
       "        vertical-align: middle;\n",
       "    }\n",
       "\n",
       "    .dataframe tbody tr th {\n",
       "        vertical-align: top;\n",
       "    }\n",
       "\n",
       "    .dataframe thead th {\n",
       "        text-align: right;\n",
       "    }\n",
       "</style>\n",
       "<table border=\"1\" class=\"dataframe\">\n",
       "  <thead>\n",
       "    <tr style=\"text-align: right;\">\n",
       "      <th></th>\n",
       "      <th>business_id</th>\n",
       "      <th>full_address</th>\n",
       "      <th>open</th>\n",
       "      <th>city</th>\n",
       "      <th>review_count</th>\n",
       "      <th>name</th>\n",
       "      <th>longitude</th>\n",
       "      <th>state</th>\n",
       "      <th>stars</th>\n",
       "      <th>latitude</th>\n",
       "      <th>type</th>\n",
       "      <th>log_rev_cnt</th>\n",
       "    </tr>\n",
       "  </thead>\n",
       "  <tbody>\n",
       "    <tr>\n",
       "      <th>0</th>\n",
       "      <td>O_X3PGhk3Y5JWVi866qlJg</td>\n",
       "      <td>1501 W Bell Rd\\nPhoenix, AZ 85023</td>\n",
       "      <td>True</td>\n",
       "      <td>Phoenix</td>\n",
       "      <td>29</td>\n",
       "      <td>Turf Paradise Race Course</td>\n",
       "      <td>-112.092329</td>\n",
       "      <td>AZ</td>\n",
       "      <td>4.0</td>\n",
       "      <td>33.638573</td>\n",
       "      <td>business</td>\n",
       "      <td>1.0</td>\n",
       "    </tr>\n",
       "    <tr>\n",
       "      <th>1</th>\n",
       "      <td>QbrM7wqtmoNncqjc6GtFaQ</td>\n",
       "      <td>18501 N 83rd Avenue\\nGlendale, AZ 85308</td>\n",
       "      <td>True</td>\n",
       "      <td>Glendale</td>\n",
       "      <td>3</td>\n",
       "      <td>Sam's Club Members Only</td>\n",
       "      <td>-112.234755</td>\n",
       "      <td>AZ</td>\n",
       "      <td>3.5</td>\n",
       "      <td>33.648545</td>\n",
       "      <td>business</td>\n",
       "      <td>0.0</td>\n",
       "    </tr>\n",
       "    <tr>\n",
       "      <th>2</th>\n",
       "      <td>7lbvsGKzhjuX3oJtaXJvOg</td>\n",
       "      <td>5000 S Arizona Mills Cir\\nSte 590\\nTempe, AZ 8...</td>\n",
       "      <td>True</td>\n",
       "      <td>Tempe</td>\n",
       "      <td>7</td>\n",
       "      <td>Forever 21</td>\n",
       "      <td>-111.964485</td>\n",
       "      <td>AZ</td>\n",
       "      <td>3.5</td>\n",
       "      <td>33.383123</td>\n",
       "      <td>business</td>\n",
       "      <td>0.0</td>\n",
       "    </tr>\n",
       "    <tr>\n",
       "      <th>3</th>\n",
       "      <td>gjxoKVsRJwEoa8zd9XxlAw</td>\n",
       "      <td>912 W Sycamore Pl\\nChandler, AZ 85225</td>\n",
       "      <td>True</td>\n",
       "      <td>Chandler</td>\n",
       "      <td>4</td>\n",
       "      <td>Loving Hands Pet Care</td>\n",
       "      <td>-111.857818</td>\n",
       "      <td>AZ</td>\n",
       "      <td>5.0</td>\n",
       "      <td>33.356472</td>\n",
       "      <td>business</td>\n",
       "      <td>0.0</td>\n",
       "    </tr>\n",
       "    <tr>\n",
       "      <th>4</th>\n",
       "      <td>V28yjMqyZnbCtabroJN_aA</td>\n",
       "      <td>1745 W Glendale Ave\\nPhoenix, AZ 85021</td>\n",
       "      <td>True</td>\n",
       "      <td>Phoenix</td>\n",
       "      <td>3</td>\n",
       "      <td>Amec Mid-City Animal Hospital</td>\n",
       "      <td>-112.097232</td>\n",
       "      <td>AZ</td>\n",
       "      <td>5.0</td>\n",
       "      <td>33.538493</td>\n",
       "      <td>business</td>\n",
       "      <td>0.0</td>\n",
       "    </tr>\n",
       "  </tbody>\n",
       "</table>\n",
       "</div>"
      ],
      "text/plain": [
       "              business_id                                       full_address  \\\n",
       "0  O_X3PGhk3Y5JWVi866qlJg                  1501 W Bell Rd\\nPhoenix, AZ 85023   \n",
       "1  QbrM7wqtmoNncqjc6GtFaQ            18501 N 83rd Avenue\\nGlendale, AZ 85308   \n",
       "2  7lbvsGKzhjuX3oJtaXJvOg  5000 S Arizona Mills Cir\\nSte 590\\nTempe, AZ 8...   \n",
       "3  gjxoKVsRJwEoa8zd9XxlAw              912 W Sycamore Pl\\nChandler, AZ 85225   \n",
       "4  V28yjMqyZnbCtabroJN_aA             1745 W Glendale Ave\\nPhoenix, AZ 85021   \n",
       "\n",
       "   open      city  review_count                           name   longitude  \\\n",
       "0  True   Phoenix            29      Turf Paradise Race Course -112.092329   \n",
       "1  True  Glendale             3        Sam's Club Members Only -112.234755   \n",
       "2  True     Tempe             7                     Forever 21 -111.964485   \n",
       "3  True  Chandler             4          Loving Hands Pet Care -111.857818   \n",
       "4  True   Phoenix             3  Amec Mid-City Animal Hospital -112.097232   \n",
       "\n",
       "  state  stars   latitude      type  log_rev_cnt  \n",
       "0    AZ    4.0  33.638573  business          1.0  \n",
       "1    AZ    3.5  33.648545  business          0.0  \n",
       "2    AZ    3.5  33.383123  business          0.0  \n",
       "3    AZ    5.0  33.356472  business          0.0  \n",
       "4    AZ    5.0  33.538493  business          0.0  "
      ]
     },
     "execution_count": 12,
     "metadata": {},
     "output_type": "execute_result"
    }
   ],
   "source": [
    "biz_df.head()"
   ]
  },
  {
   "cell_type": "code",
   "execution_count": 13,
   "metadata": {},
   "outputs": [
    {
     "data": {
      "text/plain": [
       "Text(0, 0.5, 'Occurrence')"
      ]
     },
     "execution_count": 13,
     "metadata": {},
     "output_type": "execute_result"
    },
    {
     "data": {
      "image/png": "[encoded data removed]",
      "text/plain": [
       "<Figure size 1008x432 with 2 Axes>"
      ]
     },
     "metadata": {
      "needs_background": "light"
     },
     "output_type": "display_data"
    }
   ],
   "source": [
    "import matplotlib.pyplot as plt\n",
    "\n",
    "fig, ax = plt.subplots(1, 2, figsize=(14, 6))\n",
    "biz_df['review_count'].hist(ax=ax[0], bins=100)\n",
    "ax[0].set_xlabel('review_count')\n",
    "ax[0].set_ylabel('Occurrence')\n",
    "\n",
    "biz_df['log_rev_cnt'].hist(ax=ax[1], bins=100)\n",
    "ax[1].set_xlabel('log(review_count)')\n",
    "ax[1].set_ylabel('Occurrence')"
   ]
  },
  {
   "cell_type": "markdown",
   "metadata": {},
   "source": [
    "### Box-Cox 변환"
   ]
  },
  {
   "cell_type": "markdown",
   "metadata": {},
   "source": [
    "##### 푸아송 분포: 단위시간 또는 공간 내에서 어떤 경우를 일어나는 경우 (빈도가 적고, 동시에 일어나지 않고, 전후 사건이 서로 영향을 주지 않을 때)\n",
    "##### 특징: 평균값(기대값) 람다라고 하면, 분산도 람다 형태로!"
   ]
  },
  {
   "cell_type": "code",
   "execution_count": 18,
   "metadata": {},
   "outputs": [],
   "source": [
    "from scipy import stats\n",
    "\n",
    "fitted_data, fitted_lambda = stats.boxcox(biz_df['review_count'])\n",
    "biz_df['box_rev_cnt'] = fitted_data"
   ]
  },
  {
   "cell_type": "code",
   "execution_count": 20,
   "metadata": {},
   "outputs": [
    {
     "name": "stderr",
     "output_type": "stream",
     "text": [
      "/Users/jhohunkoog/opt/anaconda3/envs/tester/lib/python3.7/site-packages/seaborn/distributions.py:2619: FutureWarning: `distplot` is a deprecated function and will be removed in a future version. Please adapt your code to use either `displot` (a figure-level function with similar flexibility) or `kdeplot` (an axes-level function for kernel density plots).\n",
      "  warnings.warn(msg, FutureWarning)\n",
      "/Users/jhohunkoog/opt/anaconda3/envs/tester/lib/python3.7/site-packages/seaborn/distributions.py:2619: FutureWarning: `distplot` is a deprecated function and will be removed in a future version. Please adapt your code to use either `displot` (a figure-level function with similar flexibility) or `kdeplot` (an axes-level function for kernel density plots).\n",
      "  warnings.warn(msg, FutureWarning)\n"
     ]
    },
    {
     "name": "stdout",
     "output_type": "stream",
     "text": [
      "Lambda value used for Transformation: -0.5408563789457254\n"
     ]
    },
    {
     "data": {
      "image/png": "[encoded data removed]",
      "text/plain": [
       "<Figure size 1152x360 with 2 Axes>"
      ]
     },
     "metadata": {
      "needs_background": "light"
     },
     "output_type": "display_data"
    }
   ],
   "source": [
    "import seaborn as sns\n",
    "\n",
    "fig, ax = plt.subplots(1, 2, figsize=(16, 5))\n",
    "sns.distplot(biz_df['review_count'], hist = False, kde = True,\n",
    "            kde_kws = {'shade': True, 'linewidth': 2}, \n",
    "            label = \"Non-Normal\", color =\"green\", ax = ax[0])\n",
    "ax[0].legend()\n",
    "\n",
    "sns.distplot(biz_df['box_rev_cnt'], hist = False, kde = True,\n",
    "            kde_kws = {'shade': True, 'linewidth': 2}, \n",
    "            label = \"Normal\", color =\"green\", ax = ax[1])\n",
    "ax[1].legend()  \n",
    "print('Lambda value used for Transformation:', fitted_lambda)"
   ]
  },
  {
   "cell_type": "markdown",
   "metadata": {},
   "source": [
    "## 스케일링"
   ]
  },
  {
   "cell_type": "code",
   "execution_count": 21,
   "metadata": {},
   "outputs": [],
   "source": [
    "# 데이터의 범위를 정하는 일\n",
    "# 키: 160~190cm, 몸무게: 40~120kg, 허리둘레: 24~40인치, 건강체질 비교!\n",
    "# 키, 몸무게, 허리둘레는 데이터의 값의 범위가 차이가 나니까 그대로 쓰면 어느 한쪽에 편중될 가능성이 높음!"
   ]
  },
  {
   "cell_type": "code",
   "execution_count": 22,
   "metadata": {},
   "outputs": [],
   "source": [
    "from sklearn.preprocessing import MinMaxScaler # 최대-최소를 기준으로 0~1 사이의 값으로 나타낸 것!\n",
    "from sklearn.preprocessing import StandardScaler # 표준 정규분포로 바꾸어 주는 것\n",
    "from sklearn.preprocessing import Normalizer # 거리로 표현하는 방법\n",
    "import sklearn.preprocessing as preprocess\n",
    "\n",
    "#Min-Max\n",
    "scaler = MinMaxScaler()\n",
    "# 원래 스케일러들은 2차원 배열이지만 지금 피처 하나만 있는 1차원이라서 2차원처럼 변형한 것이다.\n",
    "data = biz_df['review_count'].to_numpy().reshape(-1, 1) \n",
    "biz_df['min_max'] = scaler.fit_transform(data)\n",
    "#Min-max scaling을 원하면 아래의 코드를 실행하면 된다.\n",
    "#biz_df['min_max'] = preprocess.minmax_scale(biz_df['review_count'])\n",
    "#Normalized\n",
    "scaler = StandardScaler()\n",
    "biz_df['normalized'] = scaler.fit_transform(data)\n",
    "#L1 norm: 절대값을 취하는 일\n",
    "scaler = Normalizer(norm='l1')\n",
    "biz_df['l1_norm'] = Normalizer().fit_transform(data)\n",
    "#L2 norm: 유클리디안 거리를 취하는 일\n",
    "scaler = Normalizer(norm='l2')\n",
    "biz_df['l2_norm'] = Normalizer().fit_transform(data)"
   ]
  },
  {
   "cell_type": "code",
   "execution_count": 23,
   "metadata": {},
   "outputs": [],
   "source": [
    "# Normalizer / Regularizer\n",
    "# Normalizer: 거리를 조정하는 일\n",
    "# Regularizer: 데이터 자체를 잘라내거나 버릴 때 하는 일 (Outlier, Deep Learning에서 과적합 문제 등을 다룰 때)"
   ]
  },
  {
   "cell_type": "code",
   "execution_count": 24,
   "metadata": {},
   "outputs": [
    {
     "data": {
      "text/plain": [
       "Text(0.5, 1.0, 'L2 Normalize')"
      ]
     },
     "execution_count": 24,
     "metadata": {},
     "output_type": "execute_result"
    },
    {
     "data": {
      "image/png": "[encoded data removed]",
      "text/plain": [
       "<Figure size 1008x360 with 4 Axes>"
      ]
     },
     "metadata": {
      "needs_background": "light"
     },
     "output_type": "display_data"
    }
   ],
   "source": [
    "fig, ax = plt.subplots(2, 2, figsize=(14, 5))\n",
    "fig.tight_layout()\n",
    "biz_df['min_max'].hist(ax=ax[0,0], bins=100)\n",
    "ax[0, 0].set_title('Min-Max Scale')\n",
    "biz_df['normalized'].hist(ax=ax[1,0], bins=100)\n",
    "ax[1, 0].set_title('Normalized')\n",
    "biz_df['l1_norm'].hist(ax=ax[0,1], bins=100)\n",
    "ax[0, 1].set_title('L1 Normalize')\n",
    "biz_df['l2_norm'].hist(ax=ax[1,1], bins=100)\n",
    "ax[1, 1].set_title('L2 Normalize')"
   ]
  },
  {
   "cell_type": "markdown",
   "metadata": {},
   "source": [
    "## 결측치 다루기"
   ]
  },
  {
   "cell_type": "code",
   "execution_count": 25,
   "metadata": {},
   "outputs": [
    {
     "data": {
      "text/html": [
       "<div>\n",
       "<style scoped>\n",
       "    .dataframe tbody tr th:only-of-type {\n",
       "        vertical-align: middle;\n",
       "    }\n",
       "\n",
       "    .dataframe tbody tr th {\n",
       "        vertical-align: top;\n",
       "    }\n",
       "\n",
       "    .dataframe thead th {\n",
       "        text-align: right;\n",
       "    }\n",
       "</style>\n",
       "<table border=\"1\" class=\"dataframe\">\n",
       "  <thead>\n",
       "    <tr style=\"text-align: right;\">\n",
       "      <th></th>\n",
       "      <th>학과</th>\n",
       "      <th>성별</th>\n",
       "      <th>A1</th>\n",
       "      <th>A2</th>\n",
       "      <th>A3</th>\n",
       "      <th>A4</th>\n",
       "      <th>A5</th>\n",
       "      <th>B1</th>\n",
       "      <th>B2</th>\n",
       "      <th>B3</th>\n",
       "      <th>...</th>\n",
       "      <th>B7</th>\n",
       "      <th>C1</th>\n",
       "      <th>C2</th>\n",
       "      <th>C3</th>\n",
       "      <th>C4</th>\n",
       "      <th>C5</th>\n",
       "      <th>C6</th>\n",
       "      <th>C7</th>\n",
       "      <th>Interest</th>\n",
       "      <th>Motive</th>\n",
       "    </tr>\n",
       "    <tr>\n",
       "      <th>Index</th>\n",
       "      <th></th>\n",
       "      <th></th>\n",
       "      <th></th>\n",
       "      <th></th>\n",
       "      <th></th>\n",
       "      <th></th>\n",
       "      <th></th>\n",
       "      <th></th>\n",
       "      <th></th>\n",
       "      <th></th>\n",
       "      <th></th>\n",
       "      <th></th>\n",
       "      <th></th>\n",
       "      <th></th>\n",
       "      <th></th>\n",
       "      <th></th>\n",
       "      <th></th>\n",
       "      <th></th>\n",
       "      <th></th>\n",
       "      <th></th>\n",
       "      <th></th>\n",
       "    </tr>\n",
       "  </thead>\n",
       "  <tbody>\n",
       "    <tr>\n",
       "      <th>0</th>\n",
       "      <td>의예과</td>\n",
       "      <td>여</td>\n",
       "      <td>2</td>\n",
       "      <td>2</td>\n",
       "      <td>1.0</td>\n",
       "      <td>2.0</td>\n",
       "      <td>2.0</td>\n",
       "      <td>NaN</td>\n",
       "      <td>3</td>\n",
       "      <td>3.0</td>\n",
       "      <td>...</td>\n",
       "      <td>2</td>\n",
       "      <td>2</td>\n",
       "      <td>4</td>\n",
       "      <td>1</td>\n",
       "      <td>3</td>\n",
       "      <td>2</td>\n",
       "      <td>2</td>\n",
       "      <td>1</td>\n",
       "      <td>2</td>\n",
       "      <td>1.0</td>\n",
       "    </tr>\n",
       "    <tr>\n",
       "      <th>1</th>\n",
       "      <td>치의예과</td>\n",
       "      <td>남</td>\n",
       "      <td>2</td>\n",
       "      <td>2</td>\n",
       "      <td>5.0</td>\n",
       "      <td>2.0</td>\n",
       "      <td>2.0</td>\n",
       "      <td>2.0</td>\n",
       "      <td>4</td>\n",
       "      <td>2.0</td>\n",
       "      <td>...</td>\n",
       "      <td>2</td>\n",
       "      <td>2</td>\n",
       "      <td>2</td>\n",
       "      <td>1</td>\n",
       "      <td>5</td>\n",
       "      <td>5</td>\n",
       "      <td>1</td>\n",
       "      <td>1</td>\n",
       "      <td>1</td>\n",
       "      <td>1.0</td>\n",
       "    </tr>\n",
       "    <tr>\n",
       "      <th>2</th>\n",
       "      <td>치의예과</td>\n",
       "      <td>여</td>\n",
       "      <td>2</td>\n",
       "      <td>3</td>\n",
       "      <td>5.0</td>\n",
       "      <td>4.0</td>\n",
       "      <td>3.0</td>\n",
       "      <td>2.0</td>\n",
       "      <td>3</td>\n",
       "      <td>4.0</td>\n",
       "      <td>...</td>\n",
       "      <td>2</td>\n",
       "      <td>3</td>\n",
       "      <td>3</td>\n",
       "      <td>3</td>\n",
       "      <td>3</td>\n",
       "      <td>3</td>\n",
       "      <td>3</td>\n",
       "      <td>3</td>\n",
       "      <td>3</td>\n",
       "      <td>2.0</td>\n",
       "    </tr>\n",
       "    <tr>\n",
       "      <th>3</th>\n",
       "      <td>치의예과</td>\n",
       "      <td>NaN</td>\n",
       "      <td>1</td>\n",
       "      <td>2</td>\n",
       "      <td>2.0</td>\n",
       "      <td>1.0</td>\n",
       "      <td>2.0</td>\n",
       "      <td>1.0</td>\n",
       "      <td>2</td>\n",
       "      <td>1.0</td>\n",
       "      <td>...</td>\n",
       "      <td>2</td>\n",
       "      <td>1</td>\n",
       "      <td>1</td>\n",
       "      <td>1</td>\n",
       "      <td>1</td>\n",
       "      <td>2</td>\n",
       "      <td>1</td>\n",
       "      <td>2</td>\n",
       "      <td>1</td>\n",
       "      <td>2.0</td>\n",
       "    </tr>\n",
       "    <tr>\n",
       "      <th>4</th>\n",
       "      <td>의예과</td>\n",
       "      <td>여</td>\n",
       "      <td>2</td>\n",
       "      <td>2</td>\n",
       "      <td>4.0</td>\n",
       "      <td>3.0</td>\n",
       "      <td>2.0</td>\n",
       "      <td>2.0</td>\n",
       "      <td>3</td>\n",
       "      <td>2.0</td>\n",
       "      <td>...</td>\n",
       "      <td>3</td>\n",
       "      <td>2</td>\n",
       "      <td>2</td>\n",
       "      <td>2</td>\n",
       "      <td>3</td>\n",
       "      <td>3</td>\n",
       "      <td>2</td>\n",
       "      <td>2</td>\n",
       "      <td>3</td>\n",
       "      <td>2.0</td>\n",
       "    </tr>\n",
       "  </tbody>\n",
       "</table>\n",
       "<p>5 rows × 23 columns</p>\n",
       "</div>"
      ],
      "text/plain": [
       "         학과   성별  A1  A2   A3   A4   A5   B1  B2   B3  ...  B7  C1  C2  C3  \\\n",
       "Index                                                  ...                   \n",
       "0       의예과    여   2   2  1.0  2.0  2.0  NaN   3  3.0  ...   2   2   4   1   \n",
       "1      치의예과    남   2   2  5.0  2.0  2.0  2.0   4  2.0  ...   2   2   2   1   \n",
       "2      치의예과    여   2   3  5.0  4.0  3.0  2.0   3  4.0  ...   2   3   3   3   \n",
       "3      치의예과  NaN   1   2  2.0  1.0  2.0  1.0   2  1.0  ...   2   1   1   1   \n",
       "4       의예과    여   2   2  4.0  3.0  2.0  2.0   3  2.0  ...   3   2   2   2   \n",
       "\n",
       "       C4  C5  C6  C7  Interest  Motive  \n",
       "Index                                    \n",
       "0       3   2   2   1         2     1.0  \n",
       "1       5   5   1   1         1     1.0  \n",
       "2       3   3   3   3         3     2.0  \n",
       "3       1   2   1   2         1     2.0  \n",
       "4       3   3   2   2         3     2.0  \n",
       "\n",
       "[5 rows x 23 columns]"
      ]
     },
     "execution_count": 25,
     "metadata": {},
     "output_type": "execute_result"
    }
   ],
   "source": [
    "df = pd.read_excel('Data/med_data_actual.xlsx', index_col=0, engine='openpyxl') # 결측치가 포함된 데이터셋\n",
    "df.head()"
   ]
  },
  {
   "cell_type": "code",
   "execution_count": 26,
   "metadata": {},
   "outputs": [
    {
     "data": {
      "text/plain": [
       "True"
      ]
     },
     "execution_count": 26,
     "metadata": {},
     "output_type": "execute_result"
    }
   ],
   "source": [
    "pd.isnull(df.iloc[3,1])"
   ]
  },
  {
   "cell_type": "code",
   "execution_count": 27,
   "metadata": {},
   "outputs": [
    {
     "name": "stdout",
     "output_type": "stream",
     "text": [
      "(103, 23) (94, 23) (103, 15)\n"
     ]
    }
   ],
   "source": [
    "# 결측치가 있는 행 또는 열 제거하기\n",
    "# axis=0이면 행 제거, axis=1이면 열 제거\n",
    "df_drop_row = df.dropna(axis=0)\n",
    "df_drop_col = df.dropna(axis=1)\n",
    "\n",
    "print(df.shape, df_drop_row.shape, df_drop_col.shape)"
   ]
  },
  {
   "cell_type": "code",
   "execution_count": 28,
   "metadata": {},
   "outputs": [],
   "source": [
    "df_fillnum = df.fillna(100) #결측치를 100으로 채우십시오!\n",
    "df_fillstr = df.fillna('dunno') #'dunno'로 채우십시오.\n",
    "df_fill_dept = df['학과'].fillna('무소속') # 학과 컬럼에서 결측치를 '무소속'으로 채우십시오!\n",
    "df_fill_0 = df.loc[:, 'A1':'Motive'].fillna(0) # 특정 컬럼의 범위에서 결측치를 숫자 0으로 채우십시오!"
   ]
  },
  {
   "cell_type": "code",
   "execution_count": 29,
   "metadata": {},
   "outputs": [
    {
     "data": {
      "text/plain": [
       "치의예과    59\n",
       "의예과     39\n",
       "의예과      4\n",
       "무소속      1\n",
       "Name: 학과, dtype: int64"
      ]
     },
     "execution_count": 29,
     "metadata": {},
     "output_type": "execute_result"
    }
   ],
   "source": [
    "df_fill_dept.value_counts()"
   ]
  },
  {
   "cell_type": "code",
   "execution_count": 30,
   "metadata": {},
   "outputs": [
    {
     "data": {
      "text/html": [
       "<div>\n",
       "<style scoped>\n",
       "    .dataframe tbody tr th:only-of-type {\n",
       "        vertical-align: middle;\n",
       "    }\n",
       "\n",
       "    .dataframe tbody tr th {\n",
       "        vertical-align: top;\n",
       "    }\n",
       "\n",
       "    .dataframe thead th {\n",
       "        text-align: right;\n",
       "    }\n",
       "</style>\n",
       "<table border=\"1\" class=\"dataframe\">\n",
       "  <thead>\n",
       "    <tr style=\"text-align: right;\">\n",
       "      <th></th>\n",
       "      <th>A1</th>\n",
       "      <th>A2</th>\n",
       "      <th>A3</th>\n",
       "      <th>A4</th>\n",
       "      <th>A5</th>\n",
       "      <th>B1</th>\n",
       "      <th>B2</th>\n",
       "      <th>B3</th>\n",
       "      <th>B4</th>\n",
       "      <th>B5</th>\n",
       "      <th>...</th>\n",
       "      <th>B7</th>\n",
       "      <th>C1</th>\n",
       "      <th>C2</th>\n",
       "      <th>C3</th>\n",
       "      <th>C4</th>\n",
       "      <th>C5</th>\n",
       "      <th>C6</th>\n",
       "      <th>C7</th>\n",
       "      <th>Interest</th>\n",
       "      <th>Motive</th>\n",
       "    </tr>\n",
       "    <tr>\n",
       "      <th>Index</th>\n",
       "      <th></th>\n",
       "      <th></th>\n",
       "      <th></th>\n",
       "      <th></th>\n",
       "      <th></th>\n",
       "      <th></th>\n",
       "      <th></th>\n",
       "      <th></th>\n",
       "      <th></th>\n",
       "      <th></th>\n",
       "      <th></th>\n",
       "      <th></th>\n",
       "      <th></th>\n",
       "      <th></th>\n",
       "      <th></th>\n",
       "      <th></th>\n",
       "      <th></th>\n",
       "      <th></th>\n",
       "      <th></th>\n",
       "      <th></th>\n",
       "      <th></th>\n",
       "    </tr>\n",
       "  </thead>\n",
       "  <tbody>\n",
       "    <tr>\n",
       "      <th>98</th>\n",
       "      <td>3</td>\n",
       "      <td>2</td>\n",
       "      <td>2.0</td>\n",
       "      <td>2.0</td>\n",
       "      <td>2.0</td>\n",
       "      <td>4.0</td>\n",
       "      <td>2</td>\n",
       "      <td>2.0</td>\n",
       "      <td>2</td>\n",
       "      <td>2</td>\n",
       "      <td>...</td>\n",
       "      <td>2</td>\n",
       "      <td>3</td>\n",
       "      <td>3</td>\n",
       "      <td>3</td>\n",
       "      <td>2</td>\n",
       "      <td>2</td>\n",
       "      <td>3</td>\n",
       "      <td>3</td>\n",
       "      <td>3</td>\n",
       "      <td>1.0</td>\n",
       "    </tr>\n",
       "    <tr>\n",
       "      <th>99</th>\n",
       "      <td>5</td>\n",
       "      <td>1</td>\n",
       "      <td>5.0</td>\n",
       "      <td>3.0</td>\n",
       "      <td>1.0</td>\n",
       "      <td>2.0</td>\n",
       "      <td>5</td>\n",
       "      <td>3.0</td>\n",
       "      <td>1</td>\n",
       "      <td>3</td>\n",
       "      <td>...</td>\n",
       "      <td>1</td>\n",
       "      <td>1</td>\n",
       "      <td>1</td>\n",
       "      <td>2</td>\n",
       "      <td>5</td>\n",
       "      <td>5</td>\n",
       "      <td>2</td>\n",
       "      <td>1</td>\n",
       "      <td>2</td>\n",
       "      <td>1.0</td>\n",
       "    </tr>\n",
       "    <tr>\n",
       "      <th>100</th>\n",
       "      <td>2</td>\n",
       "      <td>2</td>\n",
       "      <td>5.0</td>\n",
       "      <td>2.0</td>\n",
       "      <td>2.0</td>\n",
       "      <td>2.0</td>\n",
       "      <td>4</td>\n",
       "      <td>3.0</td>\n",
       "      <td>2</td>\n",
       "      <td>3</td>\n",
       "      <td>...</td>\n",
       "      <td>2</td>\n",
       "      <td>2</td>\n",
       "      <td>2</td>\n",
       "      <td>2</td>\n",
       "      <td>4</td>\n",
       "      <td>4</td>\n",
       "      <td>2</td>\n",
       "      <td>2</td>\n",
       "      <td>2</td>\n",
       "      <td>1.0</td>\n",
       "    </tr>\n",
       "    <tr>\n",
       "      <th>101</th>\n",
       "      <td>1</td>\n",
       "      <td>1</td>\n",
       "      <td>1.0</td>\n",
       "      <td>1.0</td>\n",
       "      <td>1.0</td>\n",
       "      <td>1.0</td>\n",
       "      <td>3</td>\n",
       "      <td>3.0</td>\n",
       "      <td>1</td>\n",
       "      <td>1</td>\n",
       "      <td>...</td>\n",
       "      <td>1</td>\n",
       "      <td>1</td>\n",
       "      <td>1</td>\n",
       "      <td>1</td>\n",
       "      <td>5</td>\n",
       "      <td>5</td>\n",
       "      <td>1</td>\n",
       "      <td>1</td>\n",
       "      <td>1</td>\n",
       "      <td>1.0</td>\n",
       "    </tr>\n",
       "    <tr>\n",
       "      <th>102</th>\n",
       "      <td>2</td>\n",
       "      <td>2</td>\n",
       "      <td>4.0</td>\n",
       "      <td>1.0</td>\n",
       "      <td>1.0</td>\n",
       "      <td>2.0</td>\n",
       "      <td>4</td>\n",
       "      <td>2.0</td>\n",
       "      <td>1</td>\n",
       "      <td>2</td>\n",
       "      <td>...</td>\n",
       "      <td>2</td>\n",
       "      <td>3</td>\n",
       "      <td>2</td>\n",
       "      <td>2</td>\n",
       "      <td>5</td>\n",
       "      <td>5</td>\n",
       "      <td>2</td>\n",
       "      <td>3</td>\n",
       "      <td>3</td>\n",
       "      <td>1.0</td>\n",
       "    </tr>\n",
       "  </tbody>\n",
       "</table>\n",
       "<p>5 rows × 21 columns</p>\n",
       "</div>"
      ],
      "text/plain": [
       "       A1  A2   A3   A4   A5   B1  B2   B3  B4  B5  ...  B7  C1  C2  C3  C4  \\\n",
       "Index                                               ...                       \n",
       "98      3   2  2.0  2.0  2.0  4.0   2  2.0   2   2  ...   2   3   3   3   2   \n",
       "99      5   1  5.0  3.0  1.0  2.0   5  3.0   1   3  ...   1   1   1   2   5   \n",
       "100     2   2  5.0  2.0  2.0  2.0   4  3.0   2   3  ...   2   2   2   2   4   \n",
       "101     1   1  1.0  1.0  1.0  1.0   3  3.0   1   1  ...   1   1   1   1   5   \n",
       "102     2   2  4.0  1.0  1.0  2.0   4  2.0   1   2  ...   2   3   2   2   5   \n",
       "\n",
       "       C5  C6  C7  Interest  Motive  \n",
       "Index                                \n",
       "98      2   3   3         3     1.0  \n",
       "99      5   2   1         2     1.0  \n",
       "100     4   2   2         2     1.0  \n",
       "101     5   1   1         1     1.0  \n",
       "102     5   2   3         3     1.0  \n",
       "\n",
       "[5 rows x 21 columns]"
      ]
     },
     "execution_count": 30,
     "metadata": {},
     "output_type": "execute_result"
    }
   ],
   "source": [
    "df_fill_0.tail()"
   ]
  },
  {
   "cell_type": "code",
   "execution_count": 31,
   "metadata": {},
   "outputs": [],
   "source": [
    "df = df.replace({'': np.nan})#빈 문자열 NAN 값으로 바꾸기\n",
    "#NAN 이 있는 행은 삭제, inplace=True를 선택하면 값을 반환하지 않아도 원래의 데이터프레임을 수정한다.\n",
    "df.dropna(how='any', inplace=True) \n",
    "df = df.reset_index(drop = True) #인덱스를 0부터 차곡차곡 두는 방법이다."
   ]
  },
  {
   "cell_type": "code",
   "execution_count": 32,
   "metadata": {},
   "outputs": [
    {
     "data": {
      "text/html": [
       "<div>\n",
       "<style scoped>\n",
       "    .dataframe tbody tr th:only-of-type {\n",
       "        vertical-align: middle;\n",
       "    }\n",
       "\n",
       "    .dataframe tbody tr th {\n",
       "        vertical-align: top;\n",
       "    }\n",
       "\n",
       "    .dataframe thead th {\n",
       "        text-align: right;\n",
       "    }\n",
       "</style>\n",
       "<table border=\"1\" class=\"dataframe\">\n",
       "  <thead>\n",
       "    <tr style=\"text-align: right;\">\n",
       "      <th></th>\n",
       "      <th>학과</th>\n",
       "      <th>성별</th>\n",
       "      <th>A1</th>\n",
       "      <th>A2</th>\n",
       "      <th>A3</th>\n",
       "      <th>A4</th>\n",
       "      <th>A5</th>\n",
       "      <th>B1</th>\n",
       "      <th>B2</th>\n",
       "      <th>B3</th>\n",
       "      <th>...</th>\n",
       "      <th>B7</th>\n",
       "      <th>C1</th>\n",
       "      <th>C2</th>\n",
       "      <th>C3</th>\n",
       "      <th>C4</th>\n",
       "      <th>C5</th>\n",
       "      <th>C6</th>\n",
       "      <th>C7</th>\n",
       "      <th>Interest</th>\n",
       "      <th>Motive</th>\n",
       "    </tr>\n",
       "  </thead>\n",
       "  <tbody>\n",
       "    <tr>\n",
       "      <th>0</th>\n",
       "      <td>치의예과</td>\n",
       "      <td>남</td>\n",
       "      <td>2</td>\n",
       "      <td>2</td>\n",
       "      <td>5.0</td>\n",
       "      <td>2.0</td>\n",
       "      <td>2.0</td>\n",
       "      <td>2.0</td>\n",
       "      <td>4</td>\n",
       "      <td>2.0</td>\n",
       "      <td>...</td>\n",
       "      <td>2</td>\n",
       "      <td>2</td>\n",
       "      <td>2</td>\n",
       "      <td>1</td>\n",
       "      <td>5</td>\n",
       "      <td>5</td>\n",
       "      <td>1</td>\n",
       "      <td>1</td>\n",
       "      <td>1</td>\n",
       "      <td>1.0</td>\n",
       "    </tr>\n",
       "    <tr>\n",
       "      <th>1</th>\n",
       "      <td>치의예과</td>\n",
       "      <td>여</td>\n",
       "      <td>2</td>\n",
       "      <td>3</td>\n",
       "      <td>5.0</td>\n",
       "      <td>4.0</td>\n",
       "      <td>3.0</td>\n",
       "      <td>2.0</td>\n",
       "      <td>3</td>\n",
       "      <td>4.0</td>\n",
       "      <td>...</td>\n",
       "      <td>2</td>\n",
       "      <td>3</td>\n",
       "      <td>3</td>\n",
       "      <td>3</td>\n",
       "      <td>3</td>\n",
       "      <td>3</td>\n",
       "      <td>3</td>\n",
       "      <td>3</td>\n",
       "      <td>3</td>\n",
       "      <td>2.0</td>\n",
       "    </tr>\n",
       "    <tr>\n",
       "      <th>3</th>\n",
       "      <td>의예과</td>\n",
       "      <td>남</td>\n",
       "      <td>3</td>\n",
       "      <td>3</td>\n",
       "      <td>2.0</td>\n",
       "      <td>3.0</td>\n",
       "      <td>3.0</td>\n",
       "      <td>4.0</td>\n",
       "      <td>3</td>\n",
       "      <td>3.0</td>\n",
       "      <td>...</td>\n",
       "      <td>4</td>\n",
       "      <td>4</td>\n",
       "      <td>4</td>\n",
       "      <td>4</td>\n",
       "      <td>5</td>\n",
       "      <td>4</td>\n",
       "      <td>4</td>\n",
       "      <td>4</td>\n",
       "      <td>3</td>\n",
       "      <td>1.0</td>\n",
       "    </tr>\n",
       "    <tr>\n",
       "      <th>5</th>\n",
       "      <td>의예과</td>\n",
       "      <td>여</td>\n",
       "      <td>2</td>\n",
       "      <td>2</td>\n",
       "      <td>5.0</td>\n",
       "      <td>3.0</td>\n",
       "      <td>1.0</td>\n",
       "      <td>1.0</td>\n",
       "      <td>3</td>\n",
       "      <td>3.0</td>\n",
       "      <td>...</td>\n",
       "      <td>2</td>\n",
       "      <td>2</td>\n",
       "      <td>2</td>\n",
       "      <td>3</td>\n",
       "      <td>5</td>\n",
       "      <td>5</td>\n",
       "      <td>2</td>\n",
       "      <td>2</td>\n",
       "      <td>2</td>\n",
       "      <td>1.0</td>\n",
       "    </tr>\n",
       "    <tr>\n",
       "      <th>16</th>\n",
       "      <td>의예과</td>\n",
       "      <td>여</td>\n",
       "      <td>3</td>\n",
       "      <td>3</td>\n",
       "      <td>5.0</td>\n",
       "      <td>3.0</td>\n",
       "      <td>3.0</td>\n",
       "      <td>1.0</td>\n",
       "      <td>4</td>\n",
       "      <td>4.0</td>\n",
       "      <td>...</td>\n",
       "      <td>3</td>\n",
       "      <td>3</td>\n",
       "      <td>3</td>\n",
       "      <td>3</td>\n",
       "      <td>4</td>\n",
       "      <td>4</td>\n",
       "      <td>2</td>\n",
       "      <td>3</td>\n",
       "      <td>4</td>\n",
       "      <td>1.0</td>\n",
       "    </tr>\n",
       "    <tr>\n",
       "      <th>19</th>\n",
       "      <td>치의예과</td>\n",
       "      <td>남</td>\n",
       "      <td>1</td>\n",
       "      <td>2</td>\n",
       "      <td>2.0</td>\n",
       "      <td>3.0</td>\n",
       "      <td>2.0</td>\n",
       "      <td>4.0</td>\n",
       "      <td>5</td>\n",
       "      <td>4.0</td>\n",
       "      <td>...</td>\n",
       "      <td>3</td>\n",
       "      <td>2</td>\n",
       "      <td>2</td>\n",
       "      <td>1</td>\n",
       "      <td>2</td>\n",
       "      <td>4</td>\n",
       "      <td>4</td>\n",
       "      <td>5</td>\n",
       "      <td>3</td>\n",
       "      <td>4.0</td>\n",
       "    </tr>\n",
       "    <tr>\n",
       "      <th>22</th>\n",
       "      <td>치의예과</td>\n",
       "      <td>남</td>\n",
       "      <td>1</td>\n",
       "      <td>1</td>\n",
       "      <td>5.0</td>\n",
       "      <td>1.0</td>\n",
       "      <td>2.0</td>\n",
       "      <td>4.0</td>\n",
       "      <td>5</td>\n",
       "      <td>1.0</td>\n",
       "      <td>...</td>\n",
       "      <td>1</td>\n",
       "      <td>1</td>\n",
       "      <td>1</td>\n",
       "      <td>1</td>\n",
       "      <td>5</td>\n",
       "      <td>1</td>\n",
       "      <td>2</td>\n",
       "      <td>2</td>\n",
       "      <td>2</td>\n",
       "      <td>2.0</td>\n",
       "    </tr>\n",
       "    <tr>\n",
       "      <th>27</th>\n",
       "      <td>치의예과</td>\n",
       "      <td>남</td>\n",
       "      <td>1</td>\n",
       "      <td>1</td>\n",
       "      <td>2.0</td>\n",
       "      <td>2.0</td>\n",
       "      <td>1.0</td>\n",
       "      <td>1.0</td>\n",
       "      <td>2</td>\n",
       "      <td>3.0</td>\n",
       "      <td>...</td>\n",
       "      <td>1</td>\n",
       "      <td>3</td>\n",
       "      <td>2</td>\n",
       "      <td>3</td>\n",
       "      <td>2</td>\n",
       "      <td>1</td>\n",
       "      <td>1</td>\n",
       "      <td>2</td>\n",
       "      <td>1</td>\n",
       "      <td>4.0</td>\n",
       "    </tr>\n",
       "    <tr>\n",
       "      <th>33</th>\n",
       "      <td>치의예과</td>\n",
       "      <td>남</td>\n",
       "      <td>2</td>\n",
       "      <td>1</td>\n",
       "      <td>3.0</td>\n",
       "      <td>2.0</td>\n",
       "      <td>2.0</td>\n",
       "      <td>2.0</td>\n",
       "      <td>3</td>\n",
       "      <td>1.0</td>\n",
       "      <td>...</td>\n",
       "      <td>3</td>\n",
       "      <td>3</td>\n",
       "      <td>2</td>\n",
       "      <td>2</td>\n",
       "      <td>1</td>\n",
       "      <td>1</td>\n",
       "      <td>1</td>\n",
       "      <td>1</td>\n",
       "      <td>2</td>\n",
       "      <td>4.0</td>\n",
       "    </tr>\n",
       "    <tr>\n",
       "      <th>50</th>\n",
       "      <td>치의예과</td>\n",
       "      <td>남</td>\n",
       "      <td>5</td>\n",
       "      <td>5</td>\n",
       "      <td>5.0</td>\n",
       "      <td>5.0</td>\n",
       "      <td>5.0</td>\n",
       "      <td>5.0</td>\n",
       "      <td>5</td>\n",
       "      <td>5.0</td>\n",
       "      <td>...</td>\n",
       "      <td>5</td>\n",
       "      <td>5</td>\n",
       "      <td>5</td>\n",
       "      <td>5</td>\n",
       "      <td>5</td>\n",
       "      <td>5</td>\n",
       "      <td>5</td>\n",
       "      <td>5</td>\n",
       "      <td>5</td>\n",
       "      <td>1.0</td>\n",
       "    </tr>\n",
       "  </tbody>\n",
       "</table>\n",
       "<p>10 rows × 23 columns</p>\n",
       "</div>"
      ],
      "text/plain": [
       "      학과 성별  A1  A2   A3   A4   A5   B1  B2   B3  ...  B7  C1  C2  C3  C4  C5  \\\n",
       "0   치의예과  남   2   2  5.0  2.0  2.0  2.0   4  2.0  ...   2   2   2   1   5   5   \n",
       "1   치의예과  여   2   3  5.0  4.0  3.0  2.0   3  4.0  ...   2   3   3   3   3   3   \n",
       "3   의예과   남   3   3  2.0  3.0  3.0  4.0   3  3.0  ...   4   4   4   4   5   4   \n",
       "5    의예과  여   2   2  5.0  3.0  1.0  1.0   3  3.0  ...   2   2   2   3   5   5   \n",
       "16   의예과  여   3   3  5.0  3.0  3.0  1.0   4  4.0  ...   3   3   3   3   4   4   \n",
       "19  치의예과  남   1   2  2.0  3.0  2.0  4.0   5  4.0  ...   3   2   2   1   2   4   \n",
       "22  치의예과  남   1   1  5.0  1.0  2.0  4.0   5  1.0  ...   1   1   1   1   5   1   \n",
       "27  치의예과  남   1   1  2.0  2.0  1.0  1.0   2  3.0  ...   1   3   2   3   2   1   \n",
       "33  치의예과  남   2   1  3.0  2.0  2.0  2.0   3  1.0  ...   3   3   2   2   1   1   \n",
       "50  치의예과  남   5   5  5.0  5.0  5.0  5.0   5  5.0  ...   5   5   5   5   5   5   \n",
       "\n",
       "    C6  C7  Interest  Motive  \n",
       "0    1   1         1     1.0  \n",
       "1    3   3         3     2.0  \n",
       "3    4   4         3     1.0  \n",
       "5    2   2         2     1.0  \n",
       "16   2   3         4     1.0  \n",
       "19   4   5         3     4.0  \n",
       "22   2   2         2     2.0  \n",
       "27   1   2         1     4.0  \n",
       "33   1   1         2     4.0  \n",
       "50   5   5         5     1.0  \n",
       "\n",
       "[10 rows x 23 columns]"
      ]
     },
     "execution_count": 32,
     "metadata": {},
     "output_type": "execute_result"
    }
   ],
   "source": [
    "# Interest 및 Motive 모두 중복되는 행이 있는지 확인한다.\n",
    "df.duplicated(['Interest', 'Motive'])\n",
    "# Interst 및 Motive 행이 중복되면 첫째 값만 살린다.\n",
    "df.duplicated(['Interest', 'Motive'], keep='first')\n",
    "# 중복되면 무조건 제거한다.\n",
    "df.drop_duplicates(['Interest', 'Motive'])"
   ]
  },
  {
   "cell_type": "markdown",
   "metadata": {},
   "source": [
    "## 기초 통계 익히기"
   ]
  },
  {
   "cell_type": "code",
   "execution_count": 33,
   "metadata": {
    "scrolled": true
   },
   "outputs": [
    {
     "data": {
      "text/html": [
       "<div>\n",
       "<style scoped>\n",
       "    .dataframe tbody tr th:only-of-type {\n",
       "        vertical-align: middle;\n",
       "    }\n",
       "\n",
       "    .dataframe tbody tr th {\n",
       "        vertical-align: top;\n",
       "    }\n",
       "\n",
       "    .dataframe thead th {\n",
       "        text-align: right;\n",
       "    }\n",
       "</style>\n",
       "<table border=\"1\" class=\"dataframe\">\n",
       "  <thead>\n",
       "    <tr style=\"text-align: right;\">\n",
       "      <th></th>\n",
       "      <th>Class</th>\n",
       "      <th>Sex</th>\n",
       "      <th>Before</th>\n",
       "      <th>After</th>\n",
       "      <th>Later</th>\n",
       "    </tr>\n",
       "    <tr>\n",
       "      <th>Index</th>\n",
       "      <th></th>\n",
       "      <th></th>\n",
       "      <th></th>\n",
       "      <th></th>\n",
       "      <th></th>\n",
       "    </tr>\n",
       "  </thead>\n",
       "  <tbody>\n",
       "    <tr>\n",
       "      <th>2</th>\n",
       "      <td>1</td>\n",
       "      <td>F</td>\n",
       "      <td>2</td>\n",
       "      <td>2</td>\n",
       "      <td>4</td>\n",
       "    </tr>\n",
       "    <tr>\n",
       "      <th>3</th>\n",
       "      <td>1</td>\n",
       "      <td>M</td>\n",
       "      <td>3</td>\n",
       "      <td>3</td>\n",
       "      <td>2</td>\n",
       "    </tr>\n",
       "    <tr>\n",
       "      <th>4</th>\n",
       "      <td>1</td>\n",
       "      <td>M</td>\n",
       "      <td>3</td>\n",
       "      <td>3</td>\n",
       "      <td>5</td>\n",
       "    </tr>\n",
       "    <tr>\n",
       "      <th>5</th>\n",
       "      <td>1</td>\n",
       "      <td>M</td>\n",
       "      <td>2</td>\n",
       "      <td>2</td>\n",
       "      <td>5</td>\n",
       "    </tr>\n",
       "    <tr>\n",
       "      <th>6</th>\n",
       "      <td>1</td>\n",
       "      <td>F</td>\n",
       "      <td>2</td>\n",
       "      <td>2</td>\n",
       "      <td>5</td>\n",
       "    </tr>\n",
       "  </tbody>\n",
       "</table>\n",
       "</div>"
      ],
      "text/plain": [
       "       Class Sex  Before  After  Later\n",
       "Index                                 \n",
       "2          1   F       2      2      4\n",
       "3          1   M       3      3      2\n",
       "4          1   M       3      3      5\n",
       "5          1   M       2      2      5\n",
       "6          1   F       2      2      5"
      ]
     },
     "execution_count": 33,
     "metadata": {},
     "output_type": "execute_result"
    }
   ],
   "source": [
    "df2 = pd.read_excel('Data/instruct_data.xlsx', index_col=0, engine='openpyxl')\n",
    "df2.head()"
   ]
  },
  {
   "cell_type": "markdown",
   "metadata": {},
   "source": [
    "## T-test\n",
    "### 비교자 하는 집단의 평균값에 차이가 있는지 확인하는 방법\n",
    "### 인과적 의미는 아니고 차이만 보는 것!"
   ]
  },
  {
   "cell_type": "markdown",
   "metadata": {},
   "source": [
    "![nn](img/t_test.png)"
   ]
  },
  {
   "cell_type": "code",
   "execution_count": 34,
   "metadata": {},
   "outputs": [
    {
     "name": "stdout",
     "output_type": "stream",
     "text": [
      "Ttest_relResult(statistic=array([-1.29919132]), pvalue=array([0.19950172])) \n",
      " Ttest_indResult(statistic=array([0.]), pvalue=array([1.]))\n"
     ]
    }
   ],
   "source": [
    "import scipy\n",
    "\n",
    "#대응표본 t검정\n",
    "#p-value는 0.05 이하가 되어야 결과를 받아들일 수 있음!\n",
    "result1 = scipy.stats.ttest_rel(df2[['After']], df2[['Before']])\n",
    "#독립표본 t검정\n",
    "result2 = scipy.stats.ttest_ind(df2[['After']], df2[['After']], equal_var=False) #equal_var: 등분산성 가정\n",
    "print(result1, '\\n', result2)"
   ]
  },
  {
   "cell_type": "markdown",
   "metadata": {},
   "source": [
    "## 회귀분석"
   ]
  },
  {
   "cell_type": "markdown",
   "metadata": {},
   "source": [
    "![lr](img/lr_fig.png)"
   ]
  },
  {
   "cell_type": "code",
   "execution_count": 37,
   "metadata": {},
   "outputs": [],
   "source": [
    "## 여러 개의 데이터가 있을 때, 원인이 되는 데이터 -> 결과가 되는 데이터\n",
    "## 이 데이터들의 관계를 설명할 때 쓰는 방법\n",
    "## 입력: x, y, z\n",
    "## 출력: u\n",
    "## 관계식: u = ax + by + cz (a, b, c는 상수)\n",
    "## 인과적 관계를 의미함!"
   ]
  },
  {
   "cell_type": "code",
   "execution_count": 38,
   "metadata": {},
   "outputs": [
    {
     "name": "stdout",
     "output_type": "stream",
     "text": [
      "(276, 8) (119, 8)\n"
     ]
    }
   ],
   "source": [
    "import pandas as pd\n",
    "from sklearn.model_selection import train_test_split # 훈련 데이터와 시험 데이터를 나누는 함수\n",
    "\n",
    "# 알콜 중독 여부를 나타내는 데이터셋\n",
    "df = pd.read_excel('Data/student_alc.xlsx', engine='openpyxl')\n",
    "selected = ['age', 'famrel', 'freetime', 'goout', \n",
    "            'Dalc', 'Walc', 'health', 'absences', 'G3']\n",
    "df_reg = df[selected] # 데이터셋 중에서 일부 변수만 회귀분석을 위해 선택\n",
    "x = df_reg[df_reg.columns [:-1]] # 마지막 열은 성적이므로 종속변수라서 제외\n",
    "y = df_reg['G3'] # 종속변수\n",
    "# Train 및 test 데이터 구분\n",
    "x_train, x_test, y_train, y_test = train_test_split(x, y, \n",
    "                                                    test_size=0.3, random_state=321)\n",
    "print (x_train.shape, x_test.shape)"
   ]
  },
  {
   "cell_type": "code",
   "execution_count": 41,
   "metadata": {},
   "outputs": [
    {
     "name": "stdout",
     "output_type": "stream",
     "text": [
      "R-squared value:  0.023269474076747954\n",
      "coefficients of x:  [-0.689  0.2    0.3   -0.65  -0.254  0.263 -0.269  0.052]\n",
      "intercept:  22.488052227380795\n"
     ]
    }
   ],
   "source": [
    "%precision 3 \n",
    "\n",
    "from sklearn.linear_model import LinearRegression\n",
    "lr = LinearRegression()\n",
    "lr.fit(x_train, y_train) # 훈련 데이터로 학습하기\n",
    "r_square = lr.score(x_test, y_test)\n",
    "print('R-squared value: ', r_square) #결정계수\n",
    "print('coefficients of x: ', lr.coef_) #기울기\n",
    "print('intercept: ', lr.intercept_) #절편"
   ]
  },
  {
   "cell_type": "code",
   "execution_count": 42,
   "metadata": {},
   "outputs": [
    {
     "name": "stderr",
     "output_type": "stream",
     "text": [
      "/Users/jhohunkoog/opt/anaconda3/envs/tester/lib/python3.7/site-packages/seaborn/distributions.py:2619: FutureWarning: `distplot` is a deprecated function and will be removed in a future version. Please adapt your code to use either `displot` (a figure-level function with similar flexibility) or `kdeplot` (an axes-level function for kernel density plots).\n",
      "  warnings.warn(msg, FutureWarning)\n",
      "/Users/jhohunkoog/opt/anaconda3/envs/tester/lib/python3.7/site-packages/seaborn/distributions.py:2619: FutureWarning: `distplot` is a deprecated function and will be removed in a future version. Please adapt your code to use either `displot` (a figure-level function with similar flexibility) or `kdeplot` (an axes-level function for kernel density plots).\n",
      "  warnings.warn(msg, FutureWarning)\n"
     ]
    },
    {
     "data": {
      "image/png": "[encoded data removed]",
      "text/plain": [
       "<Figure size 720x360 with 1 Axes>"
      ]
     },
     "metadata": {
      "needs_background": "light"
     },
     "output_type": "display_data"
    }
   ],
   "source": [
    "import seaborn as sns\n",
    "import matplotlib.pyplot as plt\n",
    "\n",
    "y_pred = lr.predict(x_test)\n",
    "\n",
    "plt.figure(figsize=(10, 5))\n",
    "ax1 = sns.distplot(y_test, hist=False, label='test')\n",
    "ax2 = sns.distplot(y_pred, hist=False, label='predict', ax=ax1)\n",
    "plt.legend()\n",
    "plt.show()\n",
    "plt.close()"
   ]
  },
  {
   "cell_type": "markdown",
   "metadata": {},
   "source": [
    "## 다항회귀분석"
   ]
  },
  {
   "cell_type": "code",
   "execution_count": 43,
   "metadata": {},
   "outputs": [
    {
     "name": "stdout",
     "output_type": "stream",
     "text": [
      "-0.10585154318161627 [-4.083e-12  3.741e+00  2.814e+00  6.456e+00  1.029e+00 -8.295e+00\n",
      "  2.188e+00 -2.261e+00 -3.402e-01 -8.401e-02 -2.369e-01 -4.110e-01\n",
      "  8.085e-02  4.371e-01 -1.012e-01 -5.052e-02  3.693e-02  3.753e-02\n",
      " -1.720e-02  2.227e-01  2.381e-01 -5.033e-01  4.457e-01 -2.261e-02\n",
      "  1.295e-01 -9.018e-02 -4.201e-02 -2.598e-01  2.415e-01 -9.237e-03\n",
      " -5.595e-01 -3.907e-01  6.940e-01 -3.697e-01  1.864e-02  1.952e-01\n",
      "  3.521e-01 -1.073e-01 -6.872e-02 -1.588e-01  1.773e-01 -2.203e-02\n",
      "  1.877e-01  3.287e-02 -4.204e-03] -24.85662643194534\n"
     ]
    }
   ],
   "source": [
    "%precision 3\n",
    "from sklearn.preprocessing import PolynomialFeatures\n",
    "\n",
    "poly = PolynomialFeatures(degree=2)\n",
    "x_train_poly = poly.fit_transform(x_train) # 학습 데이터를 2차항으로 변형\n",
    "pr = LinearRegression()\n",
    "pr.fit(x_train_poly, y_train)\n",
    "x_test_poly = poly.fit_transform(x_test) # 학습 데이터 종속변수를 2차항으로 변형\n",
    "r_square = pr.score(x_test_poly, y_test)\n",
    "print(r_square, pr.coef_, pr.intercept_)"
   ]
  },
  {
   "cell_type": "code",
   "execution_count": 44,
   "metadata": {},
   "outputs": [
    {
     "name": "stderr",
     "output_type": "stream",
     "text": [
      "/Users/jhohunkoog/opt/anaconda3/envs/tester/lib/python3.7/site-packages/seaborn/distributions.py:2619: FutureWarning: `distplot` is a deprecated function and will be removed in a future version. Please adapt your code to use either `displot` (a figure-level function with similar flexibility) or `kdeplot` (an axes-level function for kernel density plots).\n",
      "  warnings.warn(msg, FutureWarning)\n",
      "/Users/jhohunkoog/opt/anaconda3/envs/tester/lib/python3.7/site-packages/seaborn/distributions.py:2619: FutureWarning: `distplot` is a deprecated function and will be removed in a future version. Please adapt your code to use either `displot` (a figure-level function with similar flexibility) or `kdeplot` (an axes-level function for kernel density plots).\n",
      "  warnings.warn(msg, FutureWarning)\n"
     ]
    },
    {
     "data": {
      "image/png": "[encoded data removed]",
      "text/plain": [
       "<Figure size 720x360 with 1 Axes>"
      ]
     },
     "metadata": {
      "needs_background": "light"
     },
     "output_type": "display_data"
    }
   ],
   "source": [
    "x_ploy = poly.fit_transform(x)\n",
    "y_pred = pr.predict(x_ploy)\n",
    "\n",
    "plt.figure(figsize=(10, 5))\n",
    "ax1 = sns.distplot(y, hist=False, label='test')\n",
    "ax2 = sns.distplot(y_pred, hist=False, label='predict', ax=ax1)\n",
    "plt.legend()\n",
    "plt.show()\n",
    "plt.close()"
   ]
  },
  {
   "cell_type": "markdown",
   "metadata": {},
   "source": [
    "## ANOVA\n",
    "### 셋 이상의 집단을 비교할 때, 분산의 차이를 보는 것!"
   ]
  },
  {
   "cell_type": "code",
   "execution_count": 45,
   "metadata": {},
   "outputs": [],
   "source": [
    "import pandas as pd\n",
    "\n",
    "# 뉴욕주의 렌트비 데이터셋\n",
    "df = pd.read_excel('nyc_2019.xlsx', index_col=0, engine='openpyxl')\n",
    "selected = ['neighbourhood_group', 'price']\n",
    "df_rent = df[selected] # 일부 컬럼만 선택하기\n",
    "df_rent.columns = ['group', 'price'] # 컬럼명 변경(이름이 너무 길어서)\n",
    "x = df_rent[df_rent.columns[:-1]] # 마지막 열은 성적이므로 종속변수라서 제외\n",
    "y = df_rent['price'] # 종속변수"
   ]
  },
  {
   "cell_type": "code",
   "execution_count": 46,
   "metadata": {},
   "outputs": [
    {
     "data": {
      "text/plain": [
       "<AxesSubplot:xlabel='group', ylabel='price'>"
      ]
     },
     "execution_count": 46,
     "metadata": {},
     "output_type": "execute_result"
    },
    {
     "data": {
      "image/png": "[encoded data removed]",
      "text/plain": [
       "<Figure size 864x288 with 2 Axes>"
      ]
     },
     "metadata": {
      "needs_background": "light"
     },
     "output_type": "display_data"
    }
   ],
   "source": [
    "fig, ax = plt.subplots(1, 2, figsize=(12, 4))\n",
    "\n",
    "fig.tight_layout()\n",
    "df_rent.boxplot(column='price', by='group', grid=False, ax=ax[0])\n",
    "sns.violinplot(x='group', y='price', data=df_rent, ax=ax[1])"
   ]
  },
  {
   "cell_type": "code",
   "execution_count": 47,
   "metadata": {},
   "outputs": [
    {
     "name": "stdout",
     "output_type": "stream",
     "text": [
      "Requirement already satisfied: statsmodels in /Users/jhohunkoog/opt/anaconda3/envs/tester/lib/python3.7/site-packages (0.13.0)\n",
      "Requirement already satisfied: scipy>=1.3 in /Users/jhohunkoog/opt/anaconda3/envs/tester/lib/python3.7/site-packages (from statsmodels) (1.7.1)\n",
      "Requirement already satisfied: patsy>=0.5.2 in /Users/jhohunkoog/opt/anaconda3/envs/tester/lib/python3.7/site-packages (from statsmodels) (0.5.2)\n",
      "Requirement already satisfied: numpy>=1.17 in /Users/jhohunkoog/opt/anaconda3/envs/tester/lib/python3.7/site-packages (from statsmodels) (1.21.2)\n",
      "Requirement already satisfied: pandas>=0.25 in /Users/jhohunkoog/opt/anaconda3/envs/tester/lib/python3.7/site-packages (from statsmodels) (0.25.0)\n",
      "Requirement already satisfied: python-dateutil>=2.6.1 in /Users/jhohunkoog/opt/anaconda3/envs/tester/lib/python3.7/site-packages (from pandas>=0.25->statsmodels) (2.8.2)\n",
      "Requirement already satisfied: pytz>=2017.2 in /Users/jhohunkoog/opt/anaconda3/envs/tester/lib/python3.7/site-packages (from pandas>=0.25->statsmodels) (2021.3)\n",
      "Requirement already satisfied: six in /Users/jhohunkoog/opt/anaconda3/envs/tester/lib/python3.7/site-packages (from patsy>=0.5.2->statsmodels) (1.16.0)\n"
     ]
    }
   ],
   "source": [
    "!pip install statsmodels"
   ]
  },
  {
   "cell_type": "code",
   "execution_count": 48,
   "metadata": {},
   "outputs": [
    {
     "name": "stdout",
     "output_type": "stream",
     "text": [
      "               df        sum_sq       mean_sq           F         PR(>F)\n",
      "C(group)      4.0  7.959096e+07  1.989774e+07  354.994839  7.723724e-302\n",
      "Residual  48890.0  2.740323e+09  5.605078e+04         NaN            NaN\n"
     ]
    }
   ],
   "source": [
    "from statsmodels.formula.api import ols\n",
    "from statsmodels.stats.anova import anova_lm\n",
    "\n",
    "formula = 'price ~ C(group)'\n",
    "lm = ols(formula, df_rent).fit()\n",
    "print(anova_lm(lm))"
   ]
  },
  {
   "cell_type": "code",
   "execution_count": null,
   "metadata": {},
   "outputs": [],
   "source": []
  }
 ],
 "metadata": {
  "kernelspec": {
   "display_name": "Python 3 (ipykernel)",
   "language": "python",
   "name": "python3"
  },
  "language_info": {
   "codemirror_mode": {
    "name": "ipython",
    "version": 3
   },
   "file_extension": ".py",
   "mimetype": "text/x-python",
   "name": "python",
   "nbconvert_exporter": "python",
   "pygments_lexer": "ipython3",
   "version": "3.7.0"
  }
 },
 "nbformat": 4,
 "nbformat_minor": 4
}
